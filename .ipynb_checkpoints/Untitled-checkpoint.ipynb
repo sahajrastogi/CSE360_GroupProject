{
 "cells": [
  {
   "cell_type": "code",
   "execution_count": null,
   "id": "6f7266ab-7b8e-4a26-a3f4-99c0ba73401f",
   "metadata": {},
   "outputs": [],
   "source": []
  }
 ],
 "metadata": {
  "kernelspec": {
   "display_name": "Python 3 (ipykernel)",
   "language": "python",
   "name": "python3"
  },
  "language_info": {
   "codemirror_mode": {
    "name": "ipython",
    "version": 3
   },
   "file_extension": ".py",
   "mimetype": "text/x-python",
   "name": "python",
   "nbconvert_exporter": "python",
   "pygments_lexer": "ipython3",
   "version": "3.12.4"
  }
 },
 "nbformat": 4,
 "nbformat_minor": 5
}
